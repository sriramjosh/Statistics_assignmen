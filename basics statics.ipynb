{
 "cells": [
  {
   "cell_type": "code",
   "execution_count": 1,
   "id": "06a69a44",
   "metadata": {},
   "outputs": [],
   "source": [
    "import numpy as np \n",
    "import pandas as pd\n",
    "from collections import Counter"
   ]
  },
  {
   "cell_type": "code",
   "execution_count": 2,
   "id": "ca7ed2d2",
   "metadata": {},
   "outputs": [],
   "source": [
    "df = pd.read_csv(r\"C:\\Users\\srira\\Downloads\\Iris (1).csv\")"
   ]
  },
  {
   "cell_type": "code",
   "execution_count": 3,
   "id": "af053647",
   "metadata": {},
   "outputs": [
    {
     "data": {
      "text/html": [
       "<div>\n",
       "<style scoped>\n",
       "    .dataframe tbody tr th:only-of-type {\n",
       "        vertical-align: middle;\n",
       "    }\n",
       "\n",
       "    .dataframe tbody tr th {\n",
       "        vertical-align: top;\n",
       "    }\n",
       "\n",
       "    .dataframe thead th {\n",
       "        text-align: right;\n",
       "    }\n",
       "</style>\n",
       "<table border=\"1\" class=\"dataframe\">\n",
       "  <thead>\n",
       "    <tr style=\"text-align: right;\">\n",
       "      <th></th>\n",
       "      <th>Id</th>\n",
       "      <th>SepalLengthCm</th>\n",
       "      <th>SepalWidthCm</th>\n",
       "      <th>PetalLengthCm</th>\n",
       "      <th>PetalWidthCm</th>\n",
       "      <th>Species</th>\n",
       "    </tr>\n",
       "  </thead>\n",
       "  <tbody>\n",
       "    <tr>\n",
       "      <th>0</th>\n",
       "      <td>1</td>\n",
       "      <td>5.1</td>\n",
       "      <td>3.5</td>\n",
       "      <td>1.4</td>\n",
       "      <td>0.2</td>\n",
       "      <td>Iris-setosa</td>\n",
       "    </tr>\n",
       "    <tr>\n",
       "      <th>1</th>\n",
       "      <td>2</td>\n",
       "      <td>4.9</td>\n",
       "      <td>3.0</td>\n",
       "      <td>1.4</td>\n",
       "      <td>0.2</td>\n",
       "      <td>Iris-setosa</td>\n",
       "    </tr>\n",
       "    <tr>\n",
       "      <th>2</th>\n",
       "      <td>3</td>\n",
       "      <td>4.7</td>\n",
       "      <td>3.2</td>\n",
       "      <td>1.3</td>\n",
       "      <td>0.2</td>\n",
       "      <td>Iris-setosa</td>\n",
       "    </tr>\n",
       "    <tr>\n",
       "      <th>3</th>\n",
       "      <td>4</td>\n",
       "      <td>4.6</td>\n",
       "      <td>3.1</td>\n",
       "      <td>1.5</td>\n",
       "      <td>0.2</td>\n",
       "      <td>Iris-setosa</td>\n",
       "    </tr>\n",
       "    <tr>\n",
       "      <th>4</th>\n",
       "      <td>5</td>\n",
       "      <td>5.0</td>\n",
       "      <td>3.6</td>\n",
       "      <td>1.4</td>\n",
       "      <td>0.2</td>\n",
       "      <td>Iris-setosa</td>\n",
       "    </tr>\n",
       "    <tr>\n",
       "      <th>...</th>\n",
       "      <td>...</td>\n",
       "      <td>...</td>\n",
       "      <td>...</td>\n",
       "      <td>...</td>\n",
       "      <td>...</td>\n",
       "      <td>...</td>\n",
       "    </tr>\n",
       "    <tr>\n",
       "      <th>145</th>\n",
       "      <td>146</td>\n",
       "      <td>6.7</td>\n",
       "      <td>3.0</td>\n",
       "      <td>5.2</td>\n",
       "      <td>2.3</td>\n",
       "      <td>Iris-virginica</td>\n",
       "    </tr>\n",
       "    <tr>\n",
       "      <th>146</th>\n",
       "      <td>147</td>\n",
       "      <td>6.3</td>\n",
       "      <td>2.5</td>\n",
       "      <td>5.0</td>\n",
       "      <td>1.9</td>\n",
       "      <td>Iris-virginica</td>\n",
       "    </tr>\n",
       "    <tr>\n",
       "      <th>147</th>\n",
       "      <td>148</td>\n",
       "      <td>6.5</td>\n",
       "      <td>3.0</td>\n",
       "      <td>5.2</td>\n",
       "      <td>2.0</td>\n",
       "      <td>Iris-virginica</td>\n",
       "    </tr>\n",
       "    <tr>\n",
       "      <th>148</th>\n",
       "      <td>149</td>\n",
       "      <td>6.2</td>\n",
       "      <td>3.4</td>\n",
       "      <td>5.4</td>\n",
       "      <td>2.3</td>\n",
       "      <td>Iris-virginica</td>\n",
       "    </tr>\n",
       "    <tr>\n",
       "      <th>149</th>\n",
       "      <td>150</td>\n",
       "      <td>5.9</td>\n",
       "      <td>3.0</td>\n",
       "      <td>5.1</td>\n",
       "      <td>1.8</td>\n",
       "      <td>Iris-virginica</td>\n",
       "    </tr>\n",
       "  </tbody>\n",
       "</table>\n",
       "<p>150 rows × 6 columns</p>\n",
       "</div>"
      ],
      "text/plain": [
       "      Id  SepalLengthCm  SepalWidthCm  PetalLengthCm  PetalWidthCm  \\\n",
       "0      1            5.1           3.5            1.4           0.2   \n",
       "1      2            4.9           3.0            1.4           0.2   \n",
       "2      3            4.7           3.2            1.3           0.2   \n",
       "3      4            4.6           3.1            1.5           0.2   \n",
       "4      5            5.0           3.6            1.4           0.2   \n",
       "..   ...            ...           ...            ...           ...   \n",
       "145  146            6.7           3.0            5.2           2.3   \n",
       "146  147            6.3           2.5            5.0           1.9   \n",
       "147  148            6.5           3.0            5.2           2.0   \n",
       "148  149            6.2           3.4            5.4           2.3   \n",
       "149  150            5.9           3.0            5.1           1.8   \n",
       "\n",
       "            Species  \n",
       "0       Iris-setosa  \n",
       "1       Iris-setosa  \n",
       "2       Iris-setosa  \n",
       "3       Iris-setosa  \n",
       "4       Iris-setosa  \n",
       "..              ...  \n",
       "145  Iris-virginica  \n",
       "146  Iris-virginica  \n",
       "147  Iris-virginica  \n",
       "148  Iris-virginica  \n",
       "149  Iris-virginica  \n",
       "\n",
       "[150 rows x 6 columns]"
      ]
     },
     "execution_count": 3,
     "metadata": {},
     "output_type": "execute_result"
    }
   ],
   "source": [
    "df"
   ]
  },
  {
   "cell_type": "code",
   "execution_count": 4,
   "id": "b00741d9",
   "metadata": {},
   "outputs": [
    {
     "data": {
      "text/plain": [
       "5.8"
      ]
     },
     "execution_count": 4,
     "metadata": {},
     "output_type": "execute_result"
    }
   ],
   "source": [
    "j = df['SepalLengthCm'].median()\n",
    "j"
   ]
  },
  {
   "cell_type": "code",
   "execution_count": 86,
   "id": "0809ad02",
   "metadata": {},
   "outputs": [
    {
     "data": {
      "text/plain": [
       "count    150.000000\n",
       "mean       5.843333\n",
       "std        0.828066\n",
       "min        4.300000\n",
       "25%        5.100000\n",
       "50%        5.800000\n",
       "75%        6.400000\n",
       "max        7.900000\n",
       "Name: SepalLengthCm, dtype: float64"
      ]
     },
     "execution_count": 86,
     "metadata": {},
     "output_type": "execute_result"
    }
   ],
   "source": [
    "j = df['SepalLengthCm'].describe()\n",
    "j"
   ]
  },
  {
   "cell_type": "code",
   "execution_count": 143,
   "id": "a1f864f9",
   "metadata": {},
   "outputs": [],
   "source": [
    "import pandas as pd\n",
    "import numpy as np\n",
    "from collections import Counter\n",
    "\n",
    "class MyDataProcess:\n",
    "    def __init__(self, path):\n",
    "        self.df = pd.read_csv(path)\n",
    "\n",
    "    def arithmetic_mean(self, column_name):\n",
    "        if column_name not in self.df.columns:\n",
    "            return None\n",
    "        else:\n",
    "            mean = sum(self.df[column_name]) / len(self.df[column_name])\n",
    "            return mean\n",
    "\n",
    "    def geometric_mean(self, column_name):\n",
    "        if column_name not in self.df.columns:\n",
    "            return None\n",
    "        product = 1\n",
    "        for num in self.df[column_name]:\n",
    "            product *= num\n",
    "        return product ** (1.0 / len(self.df[column_name]))\n",
    "\n",
    "    def harmonic_mean(self, column_name):\n",
    "        if column_name not in self.df.columns:\n",
    "            return None\n",
    "        return len(self.df[column_name]) / sum(1 / value for value in self.df[column_name])\n",
    "\n",
    "    def mode_formula(self, column_name):\n",
    "        if column_name not in self.df.columns:\n",
    "            return None\n",
    "\n",
    "        column_values = self.df[column_name].tolist()\n",
    "        counter = Counter(column_values)\n",
    "\n",
    "        max_frequency = max(counter.values())\n",
    "        modes = [key for key, value in counter.items() if value == max_frequency]\n",
    "\n",
    "        if len(modes) == 1:\n",
    "            return modes[0]\n",
    "        elif len(modes) > 1:\n",
    "            return modes\n",
    "        else:\n",
    "            return None\n",
    "    \n",
    "    def calculate_median(self, column_name):\n",
    "        if column_name not in self.df.columns:\n",
    "            return None\n",
    "\n",
    "        values = self.df[column_name].tolist()\n",
    "        n = len(values)\n",
    "\n",
    "        sorted_values = sorted(values)\n",
    "\n",
    "        if n % 2 == 1:\n",
    "            median = sorted_values[n // 2]\n",
    "        else:\n",
    "            middle1 = sorted_values[(n - 1) // 2]\n",
    "            middle2 = sorted_values[(n + 1) // 2]\n",
    "            median = (middle1 + middle2) / 2\n",
    "        return median\n",
    "\n",
    "    def variance(self, column_name):\n",
    "        if column_name not in self.df.columns:\n",
    "            return None\n",
    "\n",
    "        values = self.df[column_name].tolist()\n",
    "        n = len(values)\n",
    "        mean = sum(values) / n\n",
    "        variance = sum((x - mean) ** 2 for x in values) / n\n",
    "\n",
    "        return variance\n",
    "\n",
    "    def calculate_std_deviation(self, column_name):\n",
    "        if column_name not in self.df.columns:\n",
    "            return None\n",
    "\n",
    "        variance = self.variance(column_name)\n",
    "        std_deviation = variance ** 0.5\n",
    "\n",
    "        return std_deviation\n",
    "\n",
    "    def calculate_min(self, column_name):\n",
    "        if column_name not in self.df.columns:\n",
    "            return None\n",
    "\n",
    "        min_value = min(self.df[column_name].tolist())\n",
    "        return min_value\n",
    "\n",
    "    def calculate_max(self, column_name):\n",
    "        if column_name not in self.df.columns:\n",
    "            return None\n",
    "\n",
    "        max_value = max(self.df[column_name].tolist())\n",
    "        return max_value\n",
    "\n",
    "    def describe(self, column_name):\n",
    "        if column_name not in self.df.columns:\n",
    "            return None\n",
    "\n",
    "        values = self.df[column_name].tolist()\n",
    "        n = len(values)\n",
    "        mean = sum(values) / n\n",
    "        variance = self.variance(column_name)\n",
    "        std_deviation = self.calculate_std_deviation(column_name)\n",
    "        min_value = self.calculate_min(column_name)\n",
    "        max_value = self.calculate_max(column_name)\n",
    "        median = self.calculate_median(column_name)\n",
    "\n",
    "        description = {\n",
    "            'count': n,\n",
    "            'mean': mean,\n",
    "            'std': std_deviation,\n",
    "            'min': min_value,\n",
    "            '25%': np.percentile(values, 25),\n",
    "            '50%': median,\n",
    "            '75%': np.percentile(values, 75),\n",
    "            'max': max_value,\n",
    "            'variance': variance\n",
    "        }\n",
    "\n",
    "        return description\n",
    "\n",
    "    def calculate_range(self, column_name):\n",
    "        if column_name not in self.df.columns:\n",
    "            return None\n",
    "\n",
    "        values = self.df[column_name].tolist()\n",
    "        data_range = max(values) - min(values)\n",
    "\n",
    "        return data_range\n",
    "\n",
    "    def calculate_iqr(self, column_name):\n",
    "        if column_name not in self.df.columns:\n",
    "            return None\n",
    "\n",
    "        values = self.df[column_name].tolist()\n",
    "        q1 = np.percentile(values, 25)\n",
    "        q3 = np.percentile(values, 75)\n",
    "        iqr = q3 - q1\n",
    "\n",
    "        return iqr\n",
    "    def mean_deviation(self, column_name):\n",
    "        mean = self.arithmetic_mean(column_name)\n",
    "        n = len(self.df[column_name])\n",
    "        return sum(abs(x - mean) for x in self.df[column_name]) / n\n",
    "    \n",
    "    def coefficient_of_mean_deviation(self, column_name):\n",
    "        if column_name not in self.df.columns:\n",
    "            return None \n"
   ]
  },
  {
   "cell_type": "code",
   "execution_count": 144,
   "id": "0a96d9c3",
   "metadata": {},
   "outputs": [],
   "source": [
    "path = r\"C:\\Users\\srira\\Downloads\\Iris (1).csv\"\n",
    "iris =  MyDataProcess(path)"
   ]
  },
  {
   "cell_type": "code",
   "execution_count": null,
   "id": "75a70547",
   "metadata": {},
   "outputs": [],
   "source": []
  },
  {
   "cell_type": "code",
   "execution_count": null,
   "id": "6bd48749",
   "metadata": {},
   "outputs": [],
   "source": []
  },
  {
   "cell_type": "code",
   "execution_count": 145,
   "id": "8f81ef3d",
   "metadata": {
    "scrolled": true
   },
   "outputs": [
    {
     "data": {
      "text/plain": [
       "5.843333333333335"
      ]
     },
     "execution_count": 145,
     "metadata": {},
     "output_type": "execute_result"
    }
   ],
   "source": [
    "iris. arithmetic_mean('SepalLengthCm')"
   ]
  },
  {
   "cell_type": "code",
   "execution_count": 146,
   "id": "a8c7dc54",
   "metadata": {},
   "outputs": [
    {
     "data": {
      "text/plain": [
       "5.785720390427729"
      ]
     },
     "execution_count": 146,
     "metadata": {},
     "output_type": "execute_result"
    }
   ],
   "source": [
    "iris.geometric_mean('SepalLengthCm')"
   ]
  },
  {
   "cell_type": "code",
   "execution_count": 147,
   "id": "c6184fae",
   "metadata": {},
   "outputs": [
    {
     "data": {
      "text/plain": [
       "5.728905057850834"
      ]
     },
     "execution_count": 147,
     "metadata": {},
     "output_type": "execute_result"
    }
   ],
   "source": [
    "iris.harmonic_mean('SepalLengthCm')"
   ]
  },
  {
   "cell_type": "code",
   "execution_count": 148,
   "id": "6579b4a3",
   "metadata": {},
   "outputs": [
    {
     "data": {
      "text/plain": [
       "5.0"
      ]
     },
     "execution_count": 148,
     "metadata": {},
     "output_type": "execute_result"
    }
   ],
   "source": [
    "iris.mode_formula('SepalLengthCm')\n"
   ]
  },
  {
   "cell_type": "code",
   "execution_count": 149,
   "id": "d6e1ddb0",
   "metadata": {},
   "outputs": [
    {
     "data": {
      "text/plain": [
       "5.8"
      ]
     },
     "execution_count": 149,
     "metadata": {},
     "output_type": "execute_result"
    }
   ],
   "source": [
    "iris.calculate_median('SepalLengthCm')"
   ]
  },
  {
   "cell_type": "code",
   "execution_count": 150,
   "id": "43d2c11e",
   "metadata": {},
   "outputs": [
    {
     "data": {
      "text/plain": [
       "0.6811222222222222"
      ]
     },
     "execution_count": 150,
     "metadata": {},
     "output_type": "execute_result"
    }
   ],
   "source": [
    "iris.variance('SepalLengthCm')"
   ]
  },
  {
   "cell_type": "code",
   "execution_count": 151,
   "id": "74bcc0e4",
   "metadata": {},
   "outputs": [
    {
     "data": {
      "text/plain": [
       "0.8253012917851409"
      ]
     },
     "execution_count": 151,
     "metadata": {},
     "output_type": "execute_result"
    }
   ],
   "source": [
    "iris.calculate_std_deviation('SepalLengthCm')"
   ]
  },
  {
   "cell_type": "code",
   "execution_count": 152,
   "id": "778ed2c0",
   "metadata": {},
   "outputs": [
    {
     "data": {
      "text/plain": [
       "4.3"
      ]
     },
     "execution_count": 152,
     "metadata": {},
     "output_type": "execute_result"
    }
   ],
   "source": [
    "iris.calculate_min('SepalLengthCm')"
   ]
  },
  {
   "cell_type": "code",
   "execution_count": 153,
   "id": "909bb6df",
   "metadata": {},
   "outputs": [
    {
     "data": {
      "text/plain": [
       "4.3"
      ]
     },
     "execution_count": 153,
     "metadata": {},
     "output_type": "execute_result"
    }
   ],
   "source": [
    "iris.calculate_min('SepalLengthCm')"
   ]
  },
  {
   "cell_type": "code",
   "execution_count": 154,
   "id": "4d442f00",
   "metadata": {},
   "outputs": [
    {
     "data": {
      "text/plain": [
       "{'count': 150,\n",
       " 'mean': 5.843333333333335,\n",
       " 'std': 0.8253012917851409,\n",
       " 'min': 4.3,\n",
       " '25%': 5.1,\n",
       " '50%': 5.8,\n",
       " '75%': 6.4,\n",
       " 'max': 7.9,\n",
       " 'variance': 0.6811222222222222}"
      ]
     },
     "execution_count": 154,
     "metadata": {},
     "output_type": "execute_result"
    }
   ],
   "source": [
    "iris.describe('SepalLengthCm')"
   ]
  },
  {
   "cell_type": "code",
   "execution_count": 155,
   "id": "830e7e57",
   "metadata": {},
   "outputs": [
    {
     "data": {
      "text/plain": [
       "3.6000000000000005"
      ]
     },
     "execution_count": 155,
     "metadata": {},
     "output_type": "execute_result"
    }
   ],
   "source": [
    "iris.calculate_range('SepalLengthCm')"
   ]
  },
  {
   "cell_type": "code",
   "execution_count": 156,
   "id": "5db04ebc",
   "metadata": {},
   "outputs": [
    {
     "data": {
      "text/plain": [
       "1.3000000000000007"
      ]
     },
     "execution_count": 156,
     "metadata": {},
     "output_type": "execute_result"
    }
   ],
   "source": [
    "iris.calculate_iqr('SepalLengthCm')"
   ]
  },
  {
   "cell_type": "markdown",
   "id": "16236084",
   "metadata": {},
   "source": [
    "●\tWrite a class which takes the data set as argument and write methods for the following statistical measures without using built-in functions:\n",
    "○\tArithmetic Mean\n",
    "○\tGeometric Mean\n",
    "○\tHarmonic Mean\n",
    "○\tMode\n",
    "○\tMedian\n",
    "○\tDescribe\n",
    "○\tVariance \n",
    "○\tstandard deviation\n",
    "○\t max \n",
    "○\t min \n",
    "○\t range \n",
    "○\tIQR \n",
    "○\tQuartiles \n",
    "○\tCo-efficient of Range\n",
    "○\tCo-efficient of Variation\n",
    "○\tCo-efficient of Standard Deviation\n"
   ]
  },
  {
   "cell_type": "code",
   "execution_count": 157,
   "id": "7d532e32",
   "metadata": {},
   "outputs": [
    {
     "data": {
      "text/plain": [
       "0.6875555555555561"
      ]
     },
     "execution_count": 157,
     "metadata": {},
     "output_type": "execute_result"
    }
   ],
   "source": [
    "iris.mean_deviation('SepalLengthCm')"
   ]
  },
  {
   "cell_type": "code",
   "execution_count": 159,
   "id": "ea4af65e",
   "metadata": {},
   "outputs": [],
   "source": [
    "l =iris.coefficient_of_mean_deviation('SepalLengthCm')\n",
    "l"
   ]
  },
  {
   "cell_type": "code",
   "execution_count": null,
   "id": "25a66360",
   "metadata": {},
   "outputs": [],
   "source": []
  },
  {
   "cell_type": "code",
   "execution_count": null,
   "id": "98679f76",
   "metadata": {},
   "outputs": [],
   "source": []
  },
  {
   "cell_type": "code",
   "execution_count": null,
   "id": "a97503eb",
   "metadata": {},
   "outputs": [],
   "source": []
  },
  {
   "cell_type": "code",
   "execution_count": null,
   "id": "6bd0bb50",
   "metadata": {},
   "outputs": [],
   "source": []
  },
  {
   "cell_type": "code",
   "execution_count": null,
   "id": "1336a1f2",
   "metadata": {},
   "outputs": [],
   "source": []
  },
  {
   "cell_type": "code",
   "execution_count": null,
   "id": "f92a8305",
   "metadata": {},
   "outputs": [],
   "source": []
  },
  {
   "cell_type": "code",
   "execution_count": null,
   "id": "238b0903",
   "metadata": {},
   "outputs": [],
   "source": []
  },
  {
   "cell_type": "code",
   "execution_count": null,
   "id": "e0581189",
   "metadata": {},
   "outputs": [],
   "source": []
  },
  {
   "cell_type": "code",
   "execution_count": null,
   "id": "2cf5a1e0",
   "metadata": {},
   "outputs": [],
   "source": []
  },
  {
   "cell_type": "code",
   "execution_count": null,
   "id": "503f95aa",
   "metadata": {},
   "outputs": [],
   "source": []
  },
  {
   "cell_type": "code",
   "execution_count": null,
   "id": "3f72c27b",
   "metadata": {},
   "outputs": [],
   "source": []
  },
  {
   "cell_type": "code",
   "execution_count": null,
   "id": "34d58d36",
   "metadata": {},
   "outputs": [],
   "source": []
  },
  {
   "cell_type": "code",
   "execution_count": null,
   "id": "e6b54bef",
   "metadata": {},
   "outputs": [],
   "source": []
  },
  {
   "cell_type": "code",
   "execution_count": null,
   "id": "2ee5f59a",
   "metadata": {},
   "outputs": [],
   "source": []
  },
  {
   "cell_type": "code",
   "execution_count": null,
   "id": "e7673e2e",
   "metadata": {},
   "outputs": [],
   "source": []
  }
 ],
 "metadata": {
  "kernelspec": {
   "display_name": "Python 3 (ipykernel)",
   "language": "python",
   "name": "python3"
  },
  "language_info": {
   "codemirror_mode": {
    "name": "ipython",
    "version": 3
   },
   "file_extension": ".py",
   "mimetype": "text/x-python",
   "name": "python",
   "nbconvert_exporter": "python",
   "pygments_lexer": "ipython3",
   "version": "3.11.5"
  }
 },
 "nbformat": 4,
 "nbformat_minor": 5
}
